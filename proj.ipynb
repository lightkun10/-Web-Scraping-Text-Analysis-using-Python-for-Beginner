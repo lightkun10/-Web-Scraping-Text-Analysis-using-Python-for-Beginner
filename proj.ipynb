{
 "cells": [
  {
   "attachments": {},
   "cell_type": "markdown",
   "metadata": {},
   "source": [
    "# **Web Scraping and Text Analysis**"
   ]
  },
  {
   "attachments": {},
   "cell_type": "markdown",
   "metadata": {},
   "source": [
    " \"**BY Fierdy Pandu Setiawan**\\n\",\n",
    "    \"| [Linkedin](https://www.linkedin.com/in/fpandu/) | [Medium](https://medium.com/@lightkun) |  \\n\",\n",
    "    \"\\n\","
   ]
  },
  {
   "attachments": {},
   "cell_type": "markdown",
   "metadata": {},
   "source": [
    "# 1. Introduction"
   ]
  },
  {
   "attachments": {},
   "cell_type": "markdown",
   "metadata": {},
   "source": [
    "Web scraping, text analysis, sentiment analysis, bigram, and trigram are all important techniques in\n",
    "natural language processing. Web scraping is the process of extracting data from websites, which\n",
    "is useful for collecting data to perform text analysis. Text analysis is the process of extracting\n",
    "meaningful information from text data, such as identifying patterns or sentiments. Sentiment\n",
    "analysis is a type of text analysis that involves determining the emotional tone of a piece of text.        \n",
    "\n",
    "Bigrams and trigrams are types of n-grams, which are sequences of n words from a given text.\n",
    "Bigrams are sequences of two words, while trigrams are sequences of three words. These can be\n",
    "useful for identifying patterns in language use or for training language models.\n",
    "One application of these techniques is in analyzing reviews of products or services. For example,\n",
    "we can use web scraping to collect reviews of a particular airport, such as Soekarno-Hatta International Airport, from\n",
    "websites like TripAdvisor or Airline Quality. Once we have collected the reviews, we can use text\n",
    "analysis to identify patterns in the language used by customers. This might include identifying\n",
    "frequently used words or phrases, or identifying common complaints or praises.          \n",
    "\n",
    "We can also use sentiment analysis to determine the overall emotional tone of the reviews. This can\n",
    "help us identify trends in customer satisfaction or dissatisfaction, which can be useful for improving\n",
    "customer service or making other changes to the airport’s operations.       \n",
    "\n",
    "Now, let’s take an example of a project that uses web scraping, text analysis, and sentiment analysis.\n",
    "Suppose we want to analyze customer reviews of Soekarno-Hatta International Airport to understand their satisfaction\n",
    "levels and identify any common complaints. We can use web scraping to extract the customer\n",
    "reviews from the Soekarno-Hatta International Airport specific site, and then use text analysis techniques such as bigram\n",
    "and trigram analysis to identify frequently occurring phrases and patterns in the text. Finally, we\n",
    "can use sentiment analysis to classify each review as positive, negative, or neutral based on the\n",
    "overall sentiment expressed in the text. This type of analysis can provide valuable insights into\n",
    "customer satisfaction and help Soekarno-Hatta International Airport improve their services. Lets try to use data from\n",
    "https://www.airlinequality.com/airport-reviews/jakarta-airport/.        \n",
    "\n"
   ]
  },
  {
   "attachments": {},
   "cell_type": "markdown",
   "metadata": {},
   "source": [
    "# 2. Data Preparation"
   ]
  },
  {
   "attachments": {},
   "cell_type": "markdown",
   "metadata": {},
   "source": [
    "## 2.1 Scraping Data"
   ]
  },
  {
   "attachments": {},
   "cell_type": "markdown",
   "metadata": {},
   "source": [
    "In this code, I will use several packages: requests, BeautifulSoup, and pandas. \n",
    "\n",
    "Firstly, I will use the requests package to send HTTP requests to the website and receive the\n",
    "response. Then, I will use BeautifulSoup, a library for web scraping, to parse the HTML content\n",
    "of the webpage and extract the text data from the reviews. Lastly, I will use pandas to create a\n",
    "dataframe of the reviews.\n",
    "\n",
    "The purpose of this code is to scrape reviews for Soekarno-Hatta International Airport from the website\n",
    "airlinequality.com. The base_url is set to the Soekarno-Hatta International Airport page on the website, and\n",
    "the variables pages and page_size are set to determine the number of pages and reviews to scrape.\n",
    "\n",
    "In the for loop, I will iterate through the specified number of pages and collect the HTML data from\n",
    "each page using requests.get(). Then, I will parse the content using BeautifulSoup, and extract the\n",
    "review text from each “div” tag with class “text_content”. Finally, I will append the reviews to a\n",
    "list, and print the total number of reviews collected after each iteration.     "
   ]
  },
  {
   "cell_type": "code",
   "execution_count": 3,
   "metadata": {},
   "outputs": [],
   "source": [
    "import requests\n",
    "from bs4 import BeautifulSoup\n",
    "import pandas as pd"
   ]
  },
  {
   "cell_type": "code",
   "execution_count": 4,
   "metadata": {},
   "outputs": [
    {
     "name": "stdout",
     "output_type": "stream",
     "text": [
      "Scraping page 1\n",
      " ---> 171 total reviews\n",
      "Scraping page 2\n",
      " ---> 171 total reviews\n",
      "Scraping page 3\n",
      " ---> 171 total reviews\n",
      "Scraping page 4\n",
      " ---> 171 total reviews\n",
      "Scraping page 5\n",
      " ---> 171 total reviews\n",
      "Scraping page 6\n",
      " ---> 171 total reviews\n",
      "Scraping page 7\n",
      " ---> 171 total reviews\n",
      "Scraping page 8\n",
      " ---> 171 total reviews\n",
      "Scraping page 9\n",
      " ---> 171 total reviews\n",
      "Scraping page 10\n",
      " ---> 171 total reviews\n"
     ]
    }
   ],
   "source": [
    "base_url = \"https://www.airlinequality.com/airport-reviews/jakarta-airport\"\n",
    "pages = 10\n",
    "page_size = 1000\n",
    "\n",
    "reviews = []\n",
    "\n",
    "# Scraping the page to get the data\n",
    "for i in range(1, pages + 1):\n",
    "    print(f\"Scraping page {i}\")\n",
    "    \n",
    "    # Create URL to collect links from paginated data\n",
    "    url = f\"{base_url}/page/{i}/?sortby=post_date%3ADesc&pagesize={page_size}\"\n",
    "    \n",
    "    # Collect HTML data from the chosen page\n",
    "    response = requests.get(url)\n",
    "    \n",
    "    # Parsing the content\n",
    "    content = response.content\n",
    "    parsed_content = BeautifulSoup(content, 'html.parser')\n",
    "    \n",
    "    for para in parsed_content.find_all(\"div\", {\"class\": \"text_content\"}):\n",
    "        # print(para.get_text())\n",
    "        reviews.append(para.get_text())\n",
    "    \n",
    "    print(f\" ---> {len(reviews)} total reviews\")"
   ]
  },
  {
   "cell_type": "code",
   "execution_count": 5,
   "metadata": {},
   "outputs": [
    {
     "data": {
      "text/html": [
       "<div>\n",
       "<style scoped>\n",
       "    .dataframe tbody tr th:only-of-type {\n",
       "        vertical-align: middle;\n",
       "    }\n",
       "\n",
       "    .dataframe tbody tr th {\n",
       "        vertical-align: top;\n",
       "    }\n",
       "\n",
       "    .dataframe thead th {\n",
       "        text-align: right;\n",
       "    }\n",
       "</style>\n",
       "<table border=\"1\" class=\"dataframe\">\n",
       "  <thead>\n",
       "    <tr style=\"text-align: right;\">\n",
       "      <th></th>\n",
       "      <th>reviews</th>\n",
       "    </tr>\n",
       "  </thead>\n",
       "  <tbody>\n",
       "    <tr>\n",
       "      <th>0</th>\n",
       "      <td>✅ Trip Verified | Jakarta’s Soekarno-Hatta has...</td>\n",
       "    </tr>\n",
       "    <tr>\n",
       "      <th>1</th>\n",
       "      <td>Not Verified |  I arrived in the airport at ni...</td>\n",
       "    </tr>\n",
       "    <tr>\n",
       "      <th>2</th>\n",
       "      <td>✅ Trip Verified |  You can't transfer between ...</td>\n",
       "    </tr>\n",
       "    <tr>\n",
       "      <th>3</th>\n",
       "      <td>✅ Trip Verified |  International terminal 3 is...</td>\n",
       "    </tr>\n",
       "    <tr>\n",
       "      <th>4</th>\n",
       "      <td>✅ Trip Verified |  Most of the airport was hot...</td>\n",
       "    </tr>\n",
       "  </tbody>\n",
       "</table>\n",
       "</div>"
      ],
      "text/plain": [
       "                                             reviews\n",
       "0  ✅ Trip Verified | Jakarta’s Soekarno-Hatta has...\n",
       "1  Not Verified |  I arrived in the airport at ni...\n",
       "2  ✅ Trip Verified |  You can't transfer between ...\n",
       "3  ✅ Trip Verified |  International terminal 3 is...\n",
       "4  ✅ Trip Verified |  Most of the airport was hot..."
      ]
     },
     "execution_count": 5,
     "metadata": {},
     "output_type": "execute_result"
    }
   ],
   "source": [
    "# Save the result into dataframe\n",
    "df = pd.DataFrame()\n",
    "df[\"reviews\"] = reviews\n",
    "df.head()"
   ]
  },
  {
   "attachments": {},
   "cell_type": "markdown",
   "metadata": {},
   "source": [
    "# 3. Understanding The Data and its Pattern"
   ]
  },
  {
   "attachments": {},
   "cell_type": "markdown",
   "metadata": {},
   "source": [
    "After scrapping the data, we can use the data to get the insights"
   ]
  },
  {
   "cell_type": "code",
   "execution_count": 6,
   "metadata": {},
   "outputs": [
    {
     "data": {
      "text/html": [
       "<div>\n",
       "<style scoped>\n",
       "    .dataframe tbody tr th:only-of-type {\n",
       "        vertical-align: middle;\n",
       "    }\n",
       "\n",
       "    .dataframe tbody tr th {\n",
       "        vertical-align: top;\n",
       "    }\n",
       "\n",
       "    .dataframe thead th {\n",
       "        text-align: right;\n",
       "    }\n",
       "</style>\n",
       "<table border=\"1\" class=\"dataframe\">\n",
       "  <thead>\n",
       "    <tr style=\"text-align: right;\">\n",
       "      <th></th>\n",
       "      <th>reviews</th>\n",
       "    </tr>\n",
       "  </thead>\n",
       "  <tbody>\n",
       "    <tr>\n",
       "      <th>0</th>\n",
       "      <td>✅ Trip Verified | Jakarta’s Soekarno-Hatta has...</td>\n",
       "    </tr>\n",
       "    <tr>\n",
       "      <th>1</th>\n",
       "      <td>Not Verified |  I arrived in the airport at ni...</td>\n",
       "    </tr>\n",
       "    <tr>\n",
       "      <th>2</th>\n",
       "      <td>✅ Trip Verified |  You can't transfer between ...</td>\n",
       "    </tr>\n",
       "    <tr>\n",
       "      <th>3</th>\n",
       "      <td>✅ Trip Verified |  International terminal 3 is...</td>\n",
       "    </tr>\n",
       "    <tr>\n",
       "      <th>4</th>\n",
       "      <td>✅ Trip Verified |  Most of the airport was hot...</td>\n",
       "    </tr>\n",
       "    <tr>\n",
       "      <th>...</th>\n",
       "      <td>...</td>\n",
       "    </tr>\n",
       "    <tr>\n",
       "      <th>166</th>\n",
       "      <td>Soekarno-Hatta has a good architecture inside ...</td>\n",
       "    </tr>\n",
       "    <tr>\n",
       "      <th>167</th>\n",
       "      <td>Very negative experience. Arrived around midni...</td>\n",
       "    </tr>\n",
       "    <tr>\n",
       "      <th>168</th>\n",
       "      <td>CGK can't be compared to Changi or KLIA howeve...</td>\n",
       "    </tr>\n",
       "    <tr>\n",
       "      <th>169</th>\n",
       "      <td>Transferred from a Garuda domestic to a Garuda...</td>\n",
       "    </tr>\n",
       "    <tr>\n",
       "      <th>170</th>\n",
       "      <td>As a resident in Indonesia have frequently use...</td>\n",
       "    </tr>\n",
       "  </tbody>\n",
       "</table>\n",
       "<p>171 rows × 1 columns</p>\n",
       "</div>"
      ],
      "text/plain": [
       "                                               reviews\n",
       "0    ✅ Trip Verified | Jakarta’s Soekarno-Hatta has...\n",
       "1    Not Verified |  I arrived in the airport at ni...\n",
       "2    ✅ Trip Verified |  You can't transfer between ...\n",
       "3    ✅ Trip Verified |  International terminal 3 is...\n",
       "4    ✅ Trip Verified |  Most of the airport was hot...\n",
       "..                                                 ...\n",
       "166  Soekarno-Hatta has a good architecture inside ...\n",
       "167  Very negative experience. Arrived around midni...\n",
       "168  CGK can't be compared to Changi or KLIA howeve...\n",
       "169  Transferred from a Garuda domestic to a Garuda...\n",
       "170  As a resident in Indonesia have frequently use...\n",
       "\n",
       "[171 rows x 1 columns]"
      ]
     },
     "execution_count": 6,
     "metadata": {},
     "output_type": "execute_result"
    }
   ],
   "source": [
    "df"
   ]
  },
  {
   "attachments": {},
   "cell_type": "markdown",
   "metadata": {},
   "source": [
    "There are 5 types of patterns in each text review that I must clean for the reviews:"
   ]
  },
  {
   "attachments": {},
   "cell_type": "markdown",
   "metadata": {},
   "source": [
    "a. \"Trip Verified\" words in every beginning of reviews. Example:        \n",
    "✅ Trip Verified | Jakarta’s Soekarno-Hatta has..."
   ]
  },
  {
   "attachments": {},
   "cell_type": "markdown",
   "metadata": {},
   "source": [
    "b. \"Not Verified\" words in every beginning of reviews. Example:        \n",
    "Not Verified | I arrived in the airport at ni..."
   ]
  },
  {
   "attachments": {},
   "cell_type": "markdown",
   "metadata": {},
   "source": [
    "c. \"Verified Review\" words in every beginning of reviews. Example:        \n",
    "✅ Verified Review | Check in Terminal 3 Jakarta - the newest terminal..."
   ]
  },
  {
   "attachments": {},
   "cell_type": "markdown",
   "metadata": {},
   "source": [
    "d. \"Unverified\" words in every beginning of reviews. Example:        \n",
    "❎ Unverified | Jakarta Airport Terminal 3 is shockingly badly designed."
   ]
  },
  {
   "attachments": {},
   "cell_type": "markdown",
   "metadata": {},
   "source": [
    "e. Data that directly into reviews. Example:        \n",
    "Soekarno-Hatta has a good architecture inside ...       "
   ]
  },
  {
   "cell_type": "code",
   "execution_count": null,
   "metadata": {},
   "outputs": [],
   "source": []
  },
  {
   "attachments": {},
   "cell_type": "markdown",
   "metadata": {},
   "source": [
    "# 4. Data Cleaning"
   ]
  },
  {
   "attachments": {},
   "cell_type": "markdown",
   "metadata": {},
   "source": [
    "Cleaning the data by removing unimportant parts and focusing on the important part of the data. The goal is to make clean data that is ready to be visualized.  "
   ]
  },
  {
   "cell_type": "code",
   "execution_count": 7,
   "metadata": {},
   "outputs": [],
   "source": [
    "# Removing unimportant part of the review text with a function\n",
    "def process_reviews(reviews):\n",
    "    if reviews.startswith('✅ Trip Verified'):\n",
    "        return reviews.split('|', 1)[1]\n",
    "    elif reviews.startswith('Not Verified'):\n",
    "        return reviews.split('|', 1)[1]\n",
    "    elif reviews.startswith('✅ Verified Review'):\n",
    "        return reviews.split('|', 1)[1]\n",
    "    elif reviews.startswith('❎ Unverified'):\n",
    "        return reviews.split('|', 1)[1]\n",
    "    elif reviews.startswith('❎ Not Verified'):\n",
    "        return reviews.split('|', 1)[1]\n",
    "    else:\n",
    "        return reviews"
   ]
  },
  {
   "cell_type": "code",
   "execution_count": 8,
   "metadata": {},
   "outputs": [],
   "source": [
    "# Using the process_reviews functions for the 'reviews' column\n",
    "df['reviews'] = df['reviews'].apply(process_reviews)"
   ]
  },
  {
   "cell_type": "code",
   "execution_count": 9,
   "metadata": {},
   "outputs": [
    {
     "data": {
      "text/html": [
       "<div>\n",
       "<style scoped>\n",
       "    .dataframe tbody tr th:only-of-type {\n",
       "        vertical-align: middle;\n",
       "    }\n",
       "\n",
       "    .dataframe tbody tr th {\n",
       "        vertical-align: top;\n",
       "    }\n",
       "\n",
       "    .dataframe thead th {\n",
       "        text-align: right;\n",
       "    }\n",
       "</style>\n",
       "<table border=\"1\" class=\"dataframe\">\n",
       "  <thead>\n",
       "    <tr style=\"text-align: right;\">\n",
       "      <th></th>\n",
       "      <th>reviews</th>\n",
       "    </tr>\n",
       "  </thead>\n",
       "  <tbody>\n",
       "    <tr>\n",
       "      <th>0</th>\n",
       "      <td>Jakarta’s Soekarno-Hatta has been for a coupl...</td>\n",
       "    </tr>\n",
       "    <tr>\n",
       "      <th>1</th>\n",
       "      <td>I arrived in the airport at night. The airpo...</td>\n",
       "    </tr>\n",
       "    <tr>\n",
       "      <th>2</th>\n",
       "      <td>You can't transfer between domestic and inte...</td>\n",
       "    </tr>\n",
       "    <tr>\n",
       "      <th>3</th>\n",
       "      <td>International terminal 3 is a boiling pot.  ...</td>\n",
       "    </tr>\n",
       "    <tr>\n",
       "      <th>4</th>\n",
       "      <td>Most of the airport was hot. Only felt moder...</td>\n",
       "    </tr>\n",
       "  </tbody>\n",
       "</table>\n",
       "</div>"
      ],
      "text/plain": [
       "                                             reviews\n",
       "0   Jakarta’s Soekarno-Hatta has been for a coupl...\n",
       "1    I arrived in the airport at night. The airpo...\n",
       "2    You can't transfer between domestic and inte...\n",
       "3    International terminal 3 is a boiling pot.  ...\n",
       "4    Most of the airport was hot. Only felt moder..."
      ]
     },
     "execution_count": 9,
     "metadata": {},
     "output_type": "execute_result"
    }
   ],
   "source": [
    "# Check the result\n",
    "df.head()"
   ]
  },
  {
   "cell_type": "code",
   "execution_count": 10,
   "metadata": {},
   "outputs": [],
   "source": [
    "import re\n",
    "\n",
    "# Define a function to clean the text\n",
    "def clean(text):\n",
    "    # Removes all special characters and numericals leaving the alphabets\n",
    "    text = re.sub('[^A-Za-z]+', ' ', str(text))\n",
    "    return text"
   ]
  },
  {
   "cell_type": "code",
   "execution_count": 11,
   "metadata": {},
   "outputs": [
    {
     "data": {
      "text/html": [
       "<div>\n",
       "<style scoped>\n",
       "    .dataframe tbody tr th:only-of-type {\n",
       "        vertical-align: middle;\n",
       "    }\n",
       "\n",
       "    .dataframe tbody tr th {\n",
       "        vertical-align: top;\n",
       "    }\n",
       "\n",
       "    .dataframe thead th {\n",
       "        text-align: right;\n",
       "    }\n",
       "</style>\n",
       "<table border=\"1\" class=\"dataframe\">\n",
       "  <thead>\n",
       "    <tr style=\"text-align: right;\">\n",
       "      <th></th>\n",
       "      <th>reviews</th>\n",
       "      <th>clean_reviews</th>\n",
       "    </tr>\n",
       "  </thead>\n",
       "  <tbody>\n",
       "    <tr>\n",
       "      <th>0</th>\n",
       "      <td>Jakarta’s Soekarno-Hatta has been for a coupl...</td>\n",
       "      <td>Jakarta s Soekarno Hatta has been for a coupl...</td>\n",
       "    </tr>\n",
       "    <tr>\n",
       "      <th>1</th>\n",
       "      <td>I arrived in the airport at night. The airpo...</td>\n",
       "      <td>I arrived in the airport at night The airport...</td>\n",
       "    </tr>\n",
       "    <tr>\n",
       "      <th>2</th>\n",
       "      <td>You can't transfer between domestic and inte...</td>\n",
       "      <td>You can t transfer between domestic and inter...</td>\n",
       "    </tr>\n",
       "    <tr>\n",
       "      <th>3</th>\n",
       "      <td>International terminal 3 is a boiling pot.  ...</td>\n",
       "      <td>International terminal is a boiling pot Air c...</td>\n",
       "    </tr>\n",
       "    <tr>\n",
       "      <th>4</th>\n",
       "      <td>Most of the airport was hot. Only felt moder...</td>\n",
       "      <td>Most of the airport was hot Only felt moderat...</td>\n",
       "    </tr>\n",
       "  </tbody>\n",
       "</table>\n",
       "</div>"
      ],
      "text/plain": [
       "                                             reviews  \\\n",
       "0   Jakarta’s Soekarno-Hatta has been for a coupl...   \n",
       "1    I arrived in the airport at night. The airpo...   \n",
       "2    You can't transfer between domestic and inte...   \n",
       "3    International terminal 3 is a boiling pot.  ...   \n",
       "4    Most of the airport was hot. Only felt moder...   \n",
       "\n",
       "                                       clean_reviews  \n",
       "0   Jakarta s Soekarno Hatta has been for a coupl...  \n",
       "1   I arrived in the airport at night The airport...  \n",
       "2   You can t transfer between domestic and inter...  \n",
       "3   International terminal is a boiling pot Air c...  \n",
       "4   Most of the airport was hot Only felt moderat...  "
      ]
     },
     "execution_count": 11,
     "metadata": {},
     "output_type": "execute_result"
    }
   ],
   "source": [
    "# Cleaning the text in the 'reviews' column\n",
    "df['clean_reviews'] = df['reviews'].apply(clean)\n",
    "df.head()"
   ]
  },
  {
   "cell_type": "code",
   "execution_count": 12,
   "metadata": {},
   "outputs": [
    {
     "name": "stderr",
     "output_type": "stream",
     "text": [
      "[nltk_data] Downloading package punkt to\n",
      "[nltk_data]     C:\\Users\\Pandu\\AppData\\Roaming\\nltk_data...\n",
      "[nltk_data]   Package punkt is already up-to-date!\n",
      "[nltk_data] Downloading package stopwords to\n",
      "[nltk_data]     C:\\Users\\Pandu\\AppData\\Roaming\\nltk_data...\n",
      "[nltk_data]   Package stopwords is already up-to-date!\n",
      "[nltk_data] Downloading package wordnet to\n",
      "[nltk_data]     C:\\Users\\Pandu\\AppData\\Roaming\\nltk_data...\n",
      "[nltk_data]   Package wordnet is already up-to-date!\n"
     ]
    }
   ],
   "source": [
    "import nltk\n",
    "\"\"\"This punkt tokenizer divides a text into a list of sentences by using an␣\n",
    "↪unsupervised algorithm to build a model for abbreviation words,\n",
    "collocations, and words that start sentences. \"\"\"\n",
    "nltk.download('punkt')\n",
    "from nltk.tokenize import word_tokenize\n",
    "from nltk import pos_tag\n",
    "nltk.download('stopwords')\n",
    "from nltk.corpus import stopwords\n",
    "nltk.download('wordnet')\n",
    "from nltk.corpus import wordnet"
   ]
  },
  {
   "cell_type": "code",
   "execution_count": 13,
   "metadata": {},
   "outputs": [],
   "source": [
    "# !pip install vaderSentiment       # Uncomment if working on place like google collab"
   ]
  },
  {
   "cell_type": "code",
   "execution_count": 14,
   "metadata": {},
   "outputs": [
    {
     "name": "stderr",
     "output_type": "stream",
     "text": [
      "[nltk_data] Downloading package omw-1.4 to\n",
      "[nltk_data]     C:\\Users\\Pandu\\AppData\\Roaming\\nltk_data...\n",
      "[nltk_data]   Package omw-1.4 is already up-to-date!\n",
      "[nltk_data] Downloading package averaged_perceptron_tagger to\n",
      "[nltk_data]     C:\\Users\\Pandu\\AppData\\Roaming\\nltk_data...\n",
      "[nltk_data]   Package averaged_perceptron_tagger is already up-to-\n",
      "[nltk_data]       date!\n"
     ]
    }
   ],
   "source": [
    "#The nltk.corpus package defines a collection of corpus reader classes, \n",
    "# which can be used to access the contents of a diverse set of corpora.\n",
    "nltk.download('omw-1.4')\n",
    "nltk.download('averaged_perceptron_tagger')\n",
    "\n",
    "# POS tagger dictionary\n",
    "pos_dict = {'J':wordnet.ADJ, 'V':wordnet.VERB, 'N':wordnet.NOUN, 'R':wordnet.ADV}\n",
    "\n",
    "def token_stop_pos(text):\n",
    "    tags = pos_tag(word_tokenize(text))\n",
    "    # print(tags)\n",
    "    newlist = []\n",
    "    for word, tag in tags:\n",
    "        if word.lower() not in set(stopwords.words('english')):\n",
    "            newlist.append(tuple([word, pos_dict.get(tag[0])]))\n",
    "            #print(tag[0])\n",
    "            #print(pos_dict.get(tag[0]))\n",
    "    return newlist"
   ]
  },
  {
   "cell_type": "code",
   "execution_count": 15,
   "metadata": {},
   "outputs": [
    {
     "data": {
      "text/html": [
       "<div>\n",
       "<style scoped>\n",
       "    .dataframe tbody tr th:only-of-type {\n",
       "        vertical-align: middle;\n",
       "    }\n",
       "\n",
       "    .dataframe tbody tr th {\n",
       "        vertical-align: top;\n",
       "    }\n",
       "\n",
       "    .dataframe thead th {\n",
       "        text-align: right;\n",
       "    }\n",
       "</style>\n",
       "<table border=\"1\" class=\"dataframe\">\n",
       "  <thead>\n",
       "    <tr style=\"text-align: right;\">\n",
       "      <th></th>\n",
       "      <th>reviews</th>\n",
       "      <th>clean_reviews</th>\n",
       "      <th>POS tagged</th>\n",
       "    </tr>\n",
       "  </thead>\n",
       "  <tbody>\n",
       "    <tr>\n",
       "      <th>0</th>\n",
       "      <td>Jakarta’s Soekarno-Hatta has been for a coupl...</td>\n",
       "      <td>Jakarta s Soekarno Hatta has been for a coupl...</td>\n",
       "      <td>[(Jakarta, n), (Soekarno, n), (Hatta, n), (cou...</td>\n",
       "    </tr>\n",
       "    <tr>\n",
       "      <th>1</th>\n",
       "      <td>I arrived in the airport at night. The airpo...</td>\n",
       "      <td>I arrived in the airport at night The airport...</td>\n",
       "      <td>[(arrived, v), (airport, n), (night, n), (airp...</td>\n",
       "    </tr>\n",
       "    <tr>\n",
       "      <th>2</th>\n",
       "      <td>You can't transfer between domestic and inte...</td>\n",
       "      <td>You can t transfer between domestic and inter...</td>\n",
       "      <td>[(transfer, n), (domestic, a), (international,...</td>\n",
       "    </tr>\n",
       "    <tr>\n",
       "      <th>3</th>\n",
       "      <td>International terminal 3 is a boiling pot.  ...</td>\n",
       "      <td>International terminal is a boiling pot Air c...</td>\n",
       "      <td>[(International, n), (terminal, n), (boiling, ...</td>\n",
       "    </tr>\n",
       "    <tr>\n",
       "      <th>4</th>\n",
       "      <td>Most of the airport was hot. Only felt moder...</td>\n",
       "      <td>Most of the airport was hot Only felt moderat...</td>\n",
       "      <td>[(airport, n), (hot, a), (felt, v), (moderatel...</td>\n",
       "    </tr>\n",
       "  </tbody>\n",
       "</table>\n",
       "</div>"
      ],
      "text/plain": [
       "                                             reviews  \\\n",
       "0   Jakarta’s Soekarno-Hatta has been for a coupl...   \n",
       "1    I arrived in the airport at night. The airpo...   \n",
       "2    You can't transfer between domestic and inte...   \n",
       "3    International terminal 3 is a boiling pot.  ...   \n",
       "4    Most of the airport was hot. Only felt moder...   \n",
       "\n",
       "                                       clean_reviews  \\\n",
       "0   Jakarta s Soekarno Hatta has been for a coupl...   \n",
       "1   I arrived in the airport at night The airport...   \n",
       "2   You can t transfer between domestic and inter...   \n",
       "3   International terminal is a boiling pot Air c...   \n",
       "4   Most of the airport was hot Only felt moderat...   \n",
       "\n",
       "                                          POS tagged  \n",
       "0  [(Jakarta, n), (Soekarno, n), (Hatta, n), (cou...  \n",
       "1  [(arrived, v), (airport, n), (night, n), (airp...  \n",
       "2  [(transfer, n), (domestic, a), (international,...  \n",
       "3  [(International, n), (terminal, n), (boiling, ...  \n",
       "4  [(airport, n), (hot, a), (felt, v), (moderatel...  "
      ]
     },
     "execution_count": 15,
     "metadata": {},
     "output_type": "execute_result"
    }
   ],
   "source": [
    "df['POS tagged'] = df['clean_reviews'].apply(token_stop_pos)\n",
    "df.head()"
   ]
  },
  {
   "cell_type": "code",
   "execution_count": 16,
   "metadata": {},
   "outputs": [],
   "source": [
    "# Obtaining the stem words – Lemmatization\n",
    "from nltk.stem import WordNetLemmatizer\n",
    "wordnet_lemmatizer = WordNetLemmatizer()\n",
    "\n",
    "def lemmatize(pos_data):\n",
    "    lemma_rew = \" \"\n",
    "    for word, pos in pos_data:\n",
    "        if not pos:\n",
    "            lemma = word\n",
    "            lemma_rew = lemma_rew + \" \" + lemma\n",
    "        else:\n",
    "            lemma = wordnet_lemmatizer.lemmatize(word, pos=pos)\n",
    "            lemma_rew = lemma_rew + \" \" + lemma\n",
    "    return lemma_rew"
   ]
  },
  {
   "cell_type": "code",
   "execution_count": 17,
   "metadata": {},
   "outputs": [
    {
     "data": {
      "text/html": [
       "<div>\n",
       "<style scoped>\n",
       "    .dataframe tbody tr th:only-of-type {\n",
       "        vertical-align: middle;\n",
       "    }\n",
       "\n",
       "    .dataframe tbody tr th {\n",
       "        vertical-align: top;\n",
       "    }\n",
       "\n",
       "    .dataframe thead th {\n",
       "        text-align: right;\n",
       "    }\n",
       "</style>\n",
       "<table border=\"1\" class=\"dataframe\">\n",
       "  <thead>\n",
       "    <tr style=\"text-align: right;\">\n",
       "      <th></th>\n",
       "      <th>reviews</th>\n",
       "      <th>clean_reviews</th>\n",
       "      <th>POS tagged</th>\n",
       "      <th>Lemma</th>\n",
       "    </tr>\n",
       "  </thead>\n",
       "  <tbody>\n",
       "    <tr>\n",
       "      <th>0</th>\n",
       "      <td>Jakarta’s Soekarno-Hatta has been for a coupl...</td>\n",
       "      <td>Jakarta s Soekarno Hatta has been for a coupl...</td>\n",
       "      <td>[(Jakarta, n), (Soekarno, n), (Hatta, n), (cou...</td>\n",
       "      <td>Jakarta Soekarno Hatta couple year home base...</td>\n",
       "    </tr>\n",
       "    <tr>\n",
       "      <th>1</th>\n",
       "      <td>I arrived in the airport at night. The airpo...</td>\n",
       "      <td>I arrived in the airport at night The airport...</td>\n",
       "      <td>[(arrived, v), (airport, n), (night, n), (airp...</td>\n",
       "      <td>arrive airport night airport surprisingly em...</td>\n",
       "    </tr>\n",
       "    <tr>\n",
       "      <th>2</th>\n",
       "      <td>You can't transfer between domestic and inte...</td>\n",
       "      <td>You can t transfer between domestic and inter...</td>\n",
       "      <td>[(transfer, n), (domestic, a), (international,...</td>\n",
       "      <td>transfer domestic international section with...</td>\n",
       "    </tr>\n",
       "    <tr>\n",
       "      <th>3</th>\n",
       "      <td>International terminal 3 is a boiling pot.  ...</td>\n",
       "      <td>International terminal is a boiling pot Air c...</td>\n",
       "      <td>[(International, n), (terminal, n), (boiling, ...</td>\n",
       "      <td>International terminal boil pot Air conditio...</td>\n",
       "    </tr>\n",
       "    <tr>\n",
       "      <th>4</th>\n",
       "      <td>Most of the airport was hot. Only felt moder...</td>\n",
       "      <td>Most of the airport was hot Only felt moderat...</td>\n",
       "      <td>[(airport, n), (hot, a), (felt, v), (moderatel...</td>\n",
       "      <td>airport hot felt moderately cool quiet area ...</td>\n",
       "    </tr>\n",
       "  </tbody>\n",
       "</table>\n",
       "</div>"
      ],
      "text/plain": [
       "                                             reviews  \\\n",
       "0   Jakarta’s Soekarno-Hatta has been for a coupl...   \n",
       "1    I arrived in the airport at night. The airpo...   \n",
       "2    You can't transfer between domestic and inte...   \n",
       "3    International terminal 3 is a boiling pot.  ...   \n",
       "4    Most of the airport was hot. Only felt moder...   \n",
       "\n",
       "                                       clean_reviews  \\\n",
       "0   Jakarta s Soekarno Hatta has been for a coupl...   \n",
       "1   I arrived in the airport at night The airport...   \n",
       "2   You can t transfer between domestic and inter...   \n",
       "3   International terminal is a boiling pot Air c...   \n",
       "4   Most of the airport was hot Only felt moderat...   \n",
       "\n",
       "                                          POS tagged  \\\n",
       "0  [(Jakarta, n), (Soekarno, n), (Hatta, n), (cou...   \n",
       "1  [(arrived, v), (airport, n), (night, n), (airp...   \n",
       "2  [(transfer, n), (domestic, a), (international,...   \n",
       "3  [(International, n), (terminal, n), (boiling, ...   \n",
       "4  [(airport, n), (hot, a), (felt, v), (moderatel...   \n",
       "\n",
       "                                               Lemma  \n",
       "0    Jakarta Soekarno Hatta couple year home base...  \n",
       "1    arrive airport night airport surprisingly em...  \n",
       "2    transfer domestic international section with...  \n",
       "3    International terminal boil pot Air conditio...  \n",
       "4    airport hot felt moderately cool quiet area ...  "
      ]
     },
     "execution_count": 17,
     "metadata": {},
     "output_type": "execute_result"
    }
   ],
   "source": [
    "df['Lemma'] = df['POS tagged'].apply(lemmatize)\n",
    "df.head()"
   ]
  },
  {
   "cell_type": "code",
   "execution_count": 18,
   "metadata": {},
   "outputs": [
    {
     "data": {
      "text/html": [
       "<div>\n",
       "<style scoped>\n",
       "    .dataframe tbody tr th:only-of-type {\n",
       "        vertical-align: middle;\n",
       "    }\n",
       "\n",
       "    .dataframe tbody tr th {\n",
       "        vertical-align: top;\n",
       "    }\n",
       "\n",
       "    .dataframe thead th {\n",
       "        text-align: right;\n",
       "    }\n",
       "</style>\n",
       "<table border=\"1\" class=\"dataframe\">\n",
       "  <thead>\n",
       "    <tr style=\"text-align: right;\">\n",
       "      <th></th>\n",
       "      <th>reviews</th>\n",
       "      <th>Lemma</th>\n",
       "    </tr>\n",
       "  </thead>\n",
       "  <tbody>\n",
       "    <tr>\n",
       "      <th>0</th>\n",
       "      <td>Jakarta’s Soekarno-Hatta has been for a coupl...</td>\n",
       "      <td>Jakarta Soekarno Hatta couple year home base...</td>\n",
       "    </tr>\n",
       "    <tr>\n",
       "      <th>1</th>\n",
       "      <td>I arrived in the airport at night. The airpo...</td>\n",
       "      <td>arrive airport night airport surprisingly em...</td>\n",
       "    </tr>\n",
       "    <tr>\n",
       "      <th>2</th>\n",
       "      <td>You can't transfer between domestic and inte...</td>\n",
       "      <td>transfer domestic international section with...</td>\n",
       "    </tr>\n",
       "    <tr>\n",
       "      <th>3</th>\n",
       "      <td>International terminal 3 is a boiling pot.  ...</td>\n",
       "      <td>International terminal boil pot Air conditio...</td>\n",
       "    </tr>\n",
       "    <tr>\n",
       "      <th>4</th>\n",
       "      <td>Most of the airport was hot. Only felt moder...</td>\n",
       "      <td>airport hot felt moderately cool quiet area ...</td>\n",
       "    </tr>\n",
       "    <tr>\n",
       "      <th>...</th>\n",
       "      <td>...</td>\n",
       "      <td>...</td>\n",
       "    </tr>\n",
       "    <tr>\n",
       "      <th>166</th>\n",
       "      <td>Soekarno-Hatta has a good architecture inside ...</td>\n",
       "      <td>Soekarno Hatta good architecture inside faci...</td>\n",
       "    </tr>\n",
       "    <tr>\n",
       "      <th>167</th>\n",
       "      <td>Very negative experience. Arrived around midni...</td>\n",
       "      <td>negative experience Arrived around midnight ...</td>\n",
       "    </tr>\n",
       "    <tr>\n",
       "      <th>168</th>\n",
       "      <td>CGK can't be compared to Changi or KLIA howeve...</td>\n",
       "      <td>CGK compare Changi KLIA however pleasantly s...</td>\n",
       "    </tr>\n",
       "    <tr>\n",
       "      <th>169</th>\n",
       "      <td>Transferred from a Garuda domestic to a Garuda...</td>\n",
       "      <td>Transferred Garuda domestic Garuda internati...</td>\n",
       "    </tr>\n",
       "    <tr>\n",
       "      <th>170</th>\n",
       "      <td>As a resident in Indonesia have frequently use...</td>\n",
       "      <td>resident Indonesia frequently use Jakarta Ai...</td>\n",
       "    </tr>\n",
       "  </tbody>\n",
       "</table>\n",
       "<p>171 rows × 2 columns</p>\n",
       "</div>"
      ],
      "text/plain": [
       "                                               reviews  \\\n",
       "0     Jakarta’s Soekarno-Hatta has been for a coupl...   \n",
       "1      I arrived in the airport at night. The airpo...   \n",
       "2      You can't transfer between domestic and inte...   \n",
       "3      International terminal 3 is a boiling pot.  ...   \n",
       "4      Most of the airport was hot. Only felt moder...   \n",
       "..                                                 ...   \n",
       "166  Soekarno-Hatta has a good architecture inside ...   \n",
       "167  Very negative experience. Arrived around midni...   \n",
       "168  CGK can't be compared to Changi or KLIA howeve...   \n",
       "169  Transferred from a Garuda domestic to a Garuda...   \n",
       "170  As a resident in Indonesia have frequently use...   \n",
       "\n",
       "                                                 Lemma  \n",
       "0      Jakarta Soekarno Hatta couple year home base...  \n",
       "1      arrive airport night airport surprisingly em...  \n",
       "2      transfer domestic international section with...  \n",
       "3      International terminal boil pot Air conditio...  \n",
       "4      airport hot felt moderately cool quiet area ...  \n",
       "..                                                 ...  \n",
       "166    Soekarno Hatta good architecture inside faci...  \n",
       "167    negative experience Arrived around midnight ...  \n",
       "168    CGK compare Changi KLIA however pleasantly s...  \n",
       "169    Transferred Garuda domestic Garuda internati...  \n",
       "170    resident Indonesia frequently use Jakarta Ai...  \n",
       "\n",
       "[171 rows x 2 columns]"
      ]
     },
     "execution_count": 18,
     "metadata": {},
     "output_type": "execute_result"
    }
   ],
   "source": [
    "df[['reviews','Lemma']]"
   ]
  },
  {
   "cell_type": "code",
   "execution_count": 19,
   "metadata": {},
   "outputs": [],
   "source": [
    "# !pip install vaderSentiment  # Uncomment if using platforms like Google Collab"
   ]
  },
  {
   "cell_type": "code",
   "execution_count": 20,
   "metadata": {},
   "outputs": [],
   "source": [
    "from vaderSentiment.vaderSentiment import SentimentIntensityAnalyzer\n",
    "analyzer = SentimentIntensityAnalyzer()\n",
    "\n",
    "# function to calculate vader sentiment\n",
    "def vadersentimentanalysis(review):\n",
    "    vs = analyzer.polarity_scores(review)\n",
    "    return vs['compound']\n",
    "\n",
    "# function to analyse\n",
    "def vader_analysis(compound):\n",
    "    if compound >= 0.5:\n",
    "        return 'Positive'\n",
    "    elif compound < 0 :\n",
    "        return 'Negative'\n",
    "    else:\n",
    "        return 'Neutral'"
   ]
  },
  {
   "cell_type": "code",
   "execution_count": 21,
   "metadata": {},
   "outputs": [
    {
     "data": {
      "text/html": [
       "<div>\n",
       "<style scoped>\n",
       "    .dataframe tbody tr th:only-of-type {\n",
       "        vertical-align: middle;\n",
       "    }\n",
       "\n",
       "    .dataframe tbody tr th {\n",
       "        vertical-align: top;\n",
       "    }\n",
       "\n",
       "    .dataframe thead th {\n",
       "        text-align: right;\n",
       "    }\n",
       "</style>\n",
       "<table border=\"1\" class=\"dataframe\">\n",
       "  <thead>\n",
       "    <tr style=\"text-align: right;\">\n",
       "      <th></th>\n",
       "      <th>reviews</th>\n",
       "      <th>clean_reviews</th>\n",
       "      <th>POS tagged</th>\n",
       "      <th>Lemma</th>\n",
       "      <th>Sentiment</th>\n",
       "      <th>Analysis</th>\n",
       "    </tr>\n",
       "  </thead>\n",
       "  <tbody>\n",
       "    <tr>\n",
       "      <th>0</th>\n",
       "      <td>Jakarta’s Soekarno-Hatta has been for a coupl...</td>\n",
       "      <td>Jakarta s Soekarno Hatta has been for a coupl...</td>\n",
       "      <td>[(Jakarta, n), (Soekarno, n), (Hatta, n), (cou...</td>\n",
       "      <td>Jakarta Soekarno Hatta couple year home base...</td>\n",
       "      <td>0.4019</td>\n",
       "      <td>Neutral</td>\n",
       "    </tr>\n",
       "    <tr>\n",
       "      <th>1</th>\n",
       "      <td>I arrived in the airport at night. The airpo...</td>\n",
       "      <td>I arrived in the airport at night The airport...</td>\n",
       "      <td>[(arrived, v), (airport, n), (night, n), (airp...</td>\n",
       "      <td>arrive airport night airport surprisingly em...</td>\n",
       "      <td>0.5267</td>\n",
       "      <td>Positive</td>\n",
       "    </tr>\n",
       "    <tr>\n",
       "      <th>2</th>\n",
       "      <td>You can't transfer between domestic and inte...</td>\n",
       "      <td>You can t transfer between domestic and inter...</td>\n",
       "      <td>[(transfer, n), (domestic, a), (international,...</td>\n",
       "      <td>transfer domestic international section with...</td>\n",
       "      <td>-0.8309</td>\n",
       "      <td>Negative</td>\n",
       "    </tr>\n",
       "    <tr>\n",
       "      <th>3</th>\n",
       "      <td>International terminal 3 is a boiling pot.  ...</td>\n",
       "      <td>International terminal is a boiling pot Air c...</td>\n",
       "      <td>[(International, n), (terminal, n), (boiling, ...</td>\n",
       "      <td>International terminal boil pot Air conditio...</td>\n",
       "      <td>-0.6808</td>\n",
       "      <td>Negative</td>\n",
       "    </tr>\n",
       "    <tr>\n",
       "      <th>4</th>\n",
       "      <td>Most of the airport was hot. Only felt moder...</td>\n",
       "      <td>Most of the airport was hot Only felt moderat...</td>\n",
       "      <td>[(airport, n), (hot, a), (felt, v), (moderatel...</td>\n",
       "      <td>airport hot felt moderately cool quiet area ...</td>\n",
       "      <td>0.6369</td>\n",
       "      <td>Positive</td>\n",
       "    </tr>\n",
       "  </tbody>\n",
       "</table>\n",
       "</div>"
      ],
      "text/plain": [
       "                                             reviews  \\\n",
       "0   Jakarta’s Soekarno-Hatta has been for a coupl...   \n",
       "1    I arrived in the airport at night. The airpo...   \n",
       "2    You can't transfer between domestic and inte...   \n",
       "3    International terminal 3 is a boiling pot.  ...   \n",
       "4    Most of the airport was hot. Only felt moder...   \n",
       "\n",
       "                                       clean_reviews  \\\n",
       "0   Jakarta s Soekarno Hatta has been for a coupl...   \n",
       "1   I arrived in the airport at night The airport...   \n",
       "2   You can t transfer between domestic and inter...   \n",
       "3   International terminal is a boiling pot Air c...   \n",
       "4   Most of the airport was hot Only felt moderat...   \n",
       "\n",
       "                                          POS tagged  \\\n",
       "0  [(Jakarta, n), (Soekarno, n), (Hatta, n), (cou...   \n",
       "1  [(arrived, v), (airport, n), (night, n), (airp...   \n",
       "2  [(transfer, n), (domestic, a), (international,...   \n",
       "3  [(International, n), (terminal, n), (boiling, ...   \n",
       "4  [(airport, n), (hot, a), (felt, v), (moderatel...   \n",
       "\n",
       "                                               Lemma  Sentiment  Analysis  \n",
       "0    Jakarta Soekarno Hatta couple year home base...     0.4019   Neutral  \n",
       "1    arrive airport night airport surprisingly em...     0.5267  Positive  \n",
       "2    transfer domestic international section with...    -0.8309  Negative  \n",
       "3    International terminal boil pot Air conditio...    -0.6808  Negative  \n",
       "4    airport hot felt moderately cool quiet area ...     0.6369  Positive  "
      ]
     },
     "execution_count": 21,
     "metadata": {},
     "output_type": "execute_result"
    }
   ],
   "source": [
    "# Calculate the vader sentiment\n",
    "df['Sentiment'] = df['Lemma'].apply(vadersentimentanalysis)\n",
    "\n",
    "# Analyze the word\n",
    "df['Analysis'] = df['Sentiment'].apply(vader_analysis)\n",
    "df.head()"
   ]
  },
  {
   "cell_type": "code",
   "execution_count": 22,
   "metadata": {},
   "outputs": [
    {
     "data": {
      "text/plain": [
       "Positive    92\n",
       "Negative    58\n",
       "Neutral     21\n",
       "Name: Analysis, dtype: int64"
      ]
     },
     "execution_count": 22,
     "metadata": {},
     "output_type": "execute_result"
    }
   ],
   "source": [
    "vader_counts = df['Analysis'].value_counts()\n",
    "vader_counts"
   ]
  },
  {
   "cell_type": "code",
   "execution_count": 23,
   "metadata": {},
   "outputs": [
    {
     "data": {
      "text/html": [
       "<div>\n",
       "<style scoped>\n",
       "    .dataframe tbody tr th:only-of-type {\n",
       "        vertical-align: middle;\n",
       "    }\n",
       "\n",
       "    .dataframe tbody tr th {\n",
       "        vertical-align: top;\n",
       "    }\n",
       "\n",
       "    .dataframe thead th {\n",
       "        text-align: right;\n",
       "    }\n",
       "</style>\n",
       "<table border=\"1\" class=\"dataframe\">\n",
       "  <thead>\n",
       "    <tr style=\"text-align: right;\">\n",
       "      <th></th>\n",
       "      <th>reviews</th>\n",
       "    </tr>\n",
       "  </thead>\n",
       "  <tbody>\n",
       "    <tr>\n",
       "      <th>0</th>\n",
       "      <td>Jakarta Soekarno Hatta couple year home base...</td>\n",
       "    </tr>\n",
       "    <tr>\n",
       "      <th>1</th>\n",
       "      <td>arrive airport night airport surprisingly em...</td>\n",
       "    </tr>\n",
       "    <tr>\n",
       "      <th>2</th>\n",
       "      <td>transfer domestic international section with...</td>\n",
       "    </tr>\n",
       "    <tr>\n",
       "      <th>3</th>\n",
       "      <td>International terminal boil pot Air conditio...</td>\n",
       "    </tr>\n",
       "    <tr>\n",
       "      <th>4</th>\n",
       "      <td>airport hot felt moderately cool quiet area ...</td>\n",
       "    </tr>\n",
       "    <tr>\n",
       "      <th>...</th>\n",
       "      <td>...</td>\n",
       "    </tr>\n",
       "    <tr>\n",
       "      <th>166</th>\n",
       "      <td>Soekarno Hatta good architecture inside faci...</td>\n",
       "    </tr>\n",
       "    <tr>\n",
       "      <th>167</th>\n",
       "      <td>negative experience Arrived around midnight ...</td>\n",
       "    </tr>\n",
       "    <tr>\n",
       "      <th>168</th>\n",
       "      <td>CGK compare Changi KLIA however pleasantly s...</td>\n",
       "    </tr>\n",
       "    <tr>\n",
       "      <th>169</th>\n",
       "      <td>Transferred Garuda domestic Garuda internati...</td>\n",
       "    </tr>\n",
       "    <tr>\n",
       "      <th>170</th>\n",
       "      <td>resident Indonesia frequently use Jakarta Ai...</td>\n",
       "    </tr>\n",
       "  </tbody>\n",
       "</table>\n",
       "<p>171 rows × 1 columns</p>\n",
       "</div>"
      ],
      "text/plain": [
       "                                               reviews\n",
       "0      Jakarta Soekarno Hatta couple year home base...\n",
       "1      arrive airport night airport surprisingly em...\n",
       "2      transfer domestic international section with...\n",
       "3      International terminal boil pot Air conditio...\n",
       "4      airport hot felt moderately cool quiet area ...\n",
       "..                                                 ...\n",
       "166    Soekarno Hatta good architecture inside faci...\n",
       "167    negative experience Arrived around midnight ...\n",
       "168    CGK compare Changi KLIA however pleasantly s...\n",
       "169    Transferred Garuda domestic Garuda internati...\n",
       "170    resident Indonesia frequently use Jakarta Ai...\n",
       "\n",
       "[171 rows x 1 columns]"
      ]
     },
     "execution_count": 23,
     "metadata": {},
     "output_type": "execute_result"
    }
   ],
   "source": [
    "# Create the following data frame as a benchmark as ready-clean data\n",
    "clean_df = pd.DataFrame(df['Lemma'].tolist(), columns=['reviews'])\n",
    "clean_df"
   ]
  },
  {
   "cell_type": "code",
   "execution_count": 24,
   "metadata": {},
   "outputs": [
    {
     "name": "stdout",
     "output_type": "stream",
     "text": [
      "[('airport', 301), ('terminal', 258), ('immigration', 110), ('time', 90), ('check', 87), ('area', 74), ('arrival', 74), ('gate', 73), ('jakarta', 72), ('flight', 70)]\n"
     ]
    },
    {
     "name": "stderr",
     "output_type": "stream",
     "text": [
      "c:\\Users\\Pandu\\AppData\\Local\\Programs\\Python\\Python310\\lib\\site-packages\\sklearn\\utils\\deprecation.py:87: FutureWarning: Function get_feature_names is deprecated; get_feature_names is deprecated in 1.0 and will be removed in 1.2. Please use get_feature_names_out instead.\n",
      "  warnings.warn(msg, category=FutureWarning)\n"
     ]
    }
   ],
   "source": [
    "from sklearn.feature_extraction.text import CountVectorizer\n",
    "\n",
    "# Initiate object to CountVectorizer\n",
    "vectorizer = CountVectorizer()\n",
    "\n",
    "# Transform 'reviews' data to vector\n",
    "X = vectorizer.fit_transform(clean_df['reviews'])\n",
    "\n",
    "# Count how many the word appear then sorted descending order\n",
    "word_counts = dict(zip(vectorizer.get_feature_names(), X.sum(axis=0).tolist()[0]))\n",
    "sorted_word_counts = sorted(word_counts.items(), key=lambda x: x[1], reverse=True)\n",
    "\n",
    "# print the top ten the word in terms of appearance in the review for checking\n",
    "print(sorted_word_counts[:10])"
   ]
  },
  {
   "cell_type": "code",
   "execution_count": 25,
   "metadata": {},
   "outputs": [
    {
     "data": {
      "text/html": [
       "<div>\n",
       "<style scoped>\n",
       "    .dataframe tbody tr th:only-of-type {\n",
       "        vertical-align: middle;\n",
       "    }\n",
       "\n",
       "    .dataframe tbody tr th {\n",
       "        vertical-align: top;\n",
       "    }\n",
       "\n",
       "    .dataframe thead th {\n",
       "        text-align: right;\n",
       "    }\n",
       "</style>\n",
       "<table border=\"1\" class=\"dataframe\">\n",
       "  <thead>\n",
       "    <tr style=\"text-align: right;\">\n",
       "      <th></th>\n",
       "      <th>Word</th>\n",
       "      <th>Frequency</th>\n",
       "    </tr>\n",
       "  </thead>\n",
       "  <tbody>\n",
       "    <tr>\n",
       "      <th>0</th>\n",
       "      <td>airport</td>\n",
       "      <td>301</td>\n",
       "    </tr>\n",
       "    <tr>\n",
       "      <th>1</th>\n",
       "      <td>terminal</td>\n",
       "      <td>258</td>\n",
       "    </tr>\n",
       "    <tr>\n",
       "      <th>2</th>\n",
       "      <td>immigration</td>\n",
       "      <td>110</td>\n",
       "    </tr>\n",
       "    <tr>\n",
       "      <th>3</th>\n",
       "      <td>time</td>\n",
       "      <td>90</td>\n",
       "    </tr>\n",
       "    <tr>\n",
       "      <th>4</th>\n",
       "      <td>check</td>\n",
       "      <td>87</td>\n",
       "    </tr>\n",
       "    <tr>\n",
       "      <th>...</th>\n",
       "      <td>...</td>\n",
       "      <td>...</td>\n",
       "    </tr>\n",
       "    <tr>\n",
       "      <th>1927</th>\n",
       "      <td>yell</td>\n",
       "      <td>1</td>\n",
       "    </tr>\n",
       "    <tr>\n",
       "      <th>1928</th>\n",
       "      <td>yellow</td>\n",
       "      <td>1</td>\n",
       "    </tr>\n",
       "    <tr>\n",
       "      <th>1929</th>\n",
       "      <td>yesterday</td>\n",
       "      <td>1</td>\n",
       "    </tr>\n",
       "    <tr>\n",
       "      <th>1930</th>\n",
       "      <td>youth</td>\n",
       "      <td>1</td>\n",
       "    </tr>\n",
       "    <tr>\n",
       "      <th>1931</th>\n",
       "      <td>zero</td>\n",
       "      <td>1</td>\n",
       "    </tr>\n",
       "  </tbody>\n",
       "</table>\n",
       "<p>1932 rows × 2 columns</p>\n",
       "</div>"
      ],
      "text/plain": [
       "             Word  Frequency\n",
       "0         airport        301\n",
       "1        terminal        258\n",
       "2     immigration        110\n",
       "3            time         90\n",
       "4           check         87\n",
       "...           ...        ...\n",
       "1927         yell          1\n",
       "1928       yellow          1\n",
       "1929    yesterday          1\n",
       "1930        youth          1\n",
       "1931         zero          1\n",
       "\n",
       "[1932 rows x 2 columns]"
      ]
     },
     "execution_count": 25,
     "metadata": {},
     "output_type": "execute_result"
    }
   ],
   "source": [
    "# Save the list of sorted word count into Pandas dataframe\n",
    "sorted_word_counts = sorted(word_counts.items(), key=lambda x: x[1], reverse=True)\n",
    "df_word_counts = pd.DataFrame(sorted_word_counts, columns=['Word', 'Frequency'])\n",
    "df_word_counts"
   ]
  },
  {
   "attachments": {},
   "cell_type": "markdown",
   "metadata": {},
   "source": [
    "# 5. Data Exploration"
   ]
  },
  {
   "attachments": {},
   "cell_type": "markdown",
   "metadata": {},
   "source": [
    "Import Seaborn and Matplotlib for analyzing data further"
   ]
  },
  {
   "cell_type": "code",
   "execution_count": 26,
   "metadata": {},
   "outputs": [],
   "source": [
    "import re\n",
    "from collections import Counter\n",
    "import pandas as pd\n",
    "import seaborn as sns\n",
    "import matplotlib.pyplot as plt\n",
    "import pandas as pd\n",
    "from nltk import ngrams\n",
    "from collections import Counter"
   ]
  },
  {
   "cell_type": "code",
   "execution_count": 27,
   "metadata": {},
   "outputs": [
    {
     "data": {
      "text/html": [
       "<div>\n",
       "<style scoped>\n",
       "    .dataframe tbody tr th:only-of-type {\n",
       "        vertical-align: middle;\n",
       "    }\n",
       "\n",
       "    .dataframe tbody tr th {\n",
       "        vertical-align: top;\n",
       "    }\n",
       "\n",
       "    .dataframe thead th {\n",
       "        text-align: right;\n",
       "    }\n",
       "</style>\n",
       "<table border=\"1\" class=\"dataframe\">\n",
       "  <thead>\n",
       "    <tr style=\"text-align: right;\">\n",
       "      <th></th>\n",
       "      <th>Bigram</th>\n",
       "      <th>Frequency</th>\n",
       "    </tr>\n",
       "  </thead>\n",
       "  <tbody>\n",
       "    <tr>\n",
       "      <th>0</th>\n",
       "      <td>new terminal</td>\n",
       "      <td>24</td>\n",
       "    </tr>\n",
       "    <tr>\n",
       "      <th>1</th>\n",
       "      <td>jakarta airport</td>\n",
       "      <td>24</td>\n",
       "    </tr>\n",
       "    <tr>\n",
       "      <th>2</th>\n",
       "      <td>baggage claim</td>\n",
       "      <td>19</td>\n",
       "    </tr>\n",
       "    <tr>\n",
       "      <th>3</th>\n",
       "      <td>security check</td>\n",
       "      <td>18</td>\n",
       "    </tr>\n",
       "    <tr>\n",
       "      <th>4</th>\n",
       "      <td>soekarno hatta</td>\n",
       "      <td>16</td>\n",
       "    </tr>\n",
       "    <tr>\n",
       "      <th>...</th>\n",
       "      <td>...</td>\n",
       "      <td>...</td>\n",
       "    </tr>\n",
       "    <tr>\n",
       "      <th>8071</th>\n",
       "      <td>friendly enviromnment</td>\n",
       "      <td>1</td>\n",
       "    </tr>\n",
       "    <tr>\n",
       "      <th>8072</th>\n",
       "      <td>enviromnment reasonably</td>\n",
       "      <td>1</td>\n",
       "    </tr>\n",
       "    <tr>\n",
       "      <th>8073</th>\n",
       "      <td>reasonably price</td>\n",
       "      <td>1</td>\n",
       "    </tr>\n",
       "    <tr>\n",
       "      <th>8074</th>\n",
       "      <td>price good</td>\n",
       "      <td>1</td>\n",
       "    </tr>\n",
       "    <tr>\n",
       "      <th>8075</th>\n",
       "      <td>quality food</td>\n",
       "      <td>1</td>\n",
       "    </tr>\n",
       "  </tbody>\n",
       "</table>\n",
       "<p>8076 rows × 2 columns</p>\n",
       "</div>"
      ],
      "text/plain": [
       "                       Bigram  Frequency\n",
       "0                new terminal         24\n",
       "1             jakarta airport         24\n",
       "2               baggage claim         19\n",
       "3              security check         18\n",
       "4              soekarno hatta         16\n",
       "...                       ...        ...\n",
       "8071    friendly enviromnment          1\n",
       "8072  enviromnment reasonably          1\n",
       "8073         reasonably price          1\n",
       "8074               price good          1\n",
       "8075             quality food          1\n",
       "\n",
       "[8076 rows x 2 columns]"
      ]
     },
     "execution_count": 27,
     "metadata": {},
     "output_type": "execute_result"
    }
   ],
   "source": [
    "# Preprocessing text\n",
    "clean_df['clean_reviews'] = clean_df['reviews'].apply(\n",
    "    lambda x: re.sub(r'[^\\w\\s]','',x.lower()))\n",
    "\n",
    "# Tokenization\n",
    "clean_df['tokens'] = clean_df['clean_reviews'].apply(lambda x: x.split())\n",
    "\n",
    "# Bigram\n",
    "clean_df['bigrams'] = clean_df['tokens'].apply(\n",
    "    lambda x: [x[i] + \" \" + x[i+1] for i in range(len(x)-1)])\n",
    "\n",
    "# Counting bigram frequency\n",
    "bigram_freq = Counter([item for sublist in clean_df['bigrams'] for item in sublist])\n",
    "\n",
    "# Creating DataFrame for top 15 bigrams\n",
    "bigrams_df = pd.DataFrame(bigram_freq.most_common(), columns=['Bigram', 'Frequency'])\n",
    "bigrams_df"
   ]
  },
  {
   "cell_type": "code",
   "execution_count": 28,
   "metadata": {},
   "outputs": [
    {
     "data": {
      "text/html": [
       "<div>\n",
       "<style scoped>\n",
       "    .dataframe tbody tr th:only-of-type {\n",
       "        vertical-align: middle;\n",
       "    }\n",
       "\n",
       "    .dataframe tbody tr th {\n",
       "        vertical-align: top;\n",
       "    }\n",
       "\n",
       "    .dataframe thead th {\n",
       "        text-align: right;\n",
       "    }\n",
       "</style>\n",
       "<table border=\"1\" class=\"dataframe\">\n",
       "  <thead>\n",
       "    <tr style=\"text-align: right;\">\n",
       "      <th></th>\n",
       "      <th>Trigram</th>\n",
       "      <th>Frequency</th>\n",
       "    </tr>\n",
       "  </thead>\n",
       "  <tbody>\n",
       "    <tr>\n",
       "      <th>0</th>\n",
       "      <td>security check point</td>\n",
       "      <td>5</td>\n",
       "    </tr>\n",
       "    <tr>\n",
       "      <th>1</th>\n",
       "      <td>duty free shop</td>\n",
       "      <td>5</td>\n",
       "    </tr>\n",
       "    <tr>\n",
       "      <th>2</th>\n",
       "      <td>Jakarta Soekarno Hatta</td>\n",
       "      <td>4</td>\n",
       "    </tr>\n",
       "    <tr>\n",
       "      <th>3</th>\n",
       "      <td>terminal domestic flight</td>\n",
       "      <td>4</td>\n",
       "    </tr>\n",
       "    <tr>\n",
       "      <th>4</th>\n",
       "      <td>terminal Jakarta Airport</td>\n",
       "      <td>3</td>\n",
       "    </tr>\n",
       "    <tr>\n",
       "      <th>...</th>\n",
       "      <td>...</td>\n",
       "      <td>...</td>\n",
       "    </tr>\n",
       "    <tr>\n",
       "      <th>9165</th>\n",
       "      <td>Terminal since day</td>\n",
       "      <td>1</td>\n",
       "    </tr>\n",
       "    <tr>\n",
       "      <th>9166</th>\n",
       "      <td>use Terminal since</td>\n",
       "      <td>1</td>\n",
       "    </tr>\n",
       "    <tr>\n",
       "      <th>9167</th>\n",
       "      <td>improvement happen Indonesia</td>\n",
       "      <td>1</td>\n",
       "    </tr>\n",
       "    <tr>\n",
       "      <th>9168</th>\n",
       "      <td>make improvement happen</td>\n",
       "      <td>1</td>\n",
       "    </tr>\n",
       "    <tr>\n",
       "      <th>9169</th>\n",
       "      <td>quality food beverage</td>\n",
       "      <td>1</td>\n",
       "    </tr>\n",
       "  </tbody>\n",
       "</table>\n",
       "<p>9170 rows × 2 columns</p>\n",
       "</div>"
      ],
      "text/plain": [
       "                           Trigram  Frequency\n",
       "0             security check point          5\n",
       "1                   duty free shop          5\n",
       "2           Jakarta Soekarno Hatta          4\n",
       "3         terminal domestic flight          4\n",
       "4         terminal Jakarta Airport          3\n",
       "...                            ...        ...\n",
       "9165            Terminal since day          1\n",
       "9166            use Terminal since          1\n",
       "9167  improvement happen Indonesia          1\n",
       "9168       make improvement happen          1\n",
       "9169         quality food beverage          1\n",
       "\n",
       "[9170 rows x 2 columns]"
      ]
     },
     "execution_count": 28,
     "metadata": {},
     "output_type": "execute_result"
    }
   ],
   "source": [
    "# create trigrams\n",
    "trigrams_list = []\n",
    "for review in clean_df['reviews']:\n",
    "    review_trigrams = ngrams(review.split(), 3)\n",
    "    trigrams_list.extend(review_trigrams)\n",
    "\n",
    "# count trigrams and create dataframe\n",
    "trigrams_counts = Counter(trigrams_list)\n",
    "trigrams_df = pd.DataFrame.from_dict(trigrams_counts, orient='index', columns=['Frequency'])\n",
    "trigrams_df.index = trigrams_df.index.map(' '.join)\n",
    "trigrams_df.index.name = 'Trigram'\n",
    "trigrams_df = trigrams_df.reset_index()\n",
    "\n",
    "# sort by frequency\n",
    "trigrams_df = trigrams_df.sort_values('Frequency', ascending=False)\n",
    "\n",
    "# reset index\n",
    "trigrams_df = trigrams_df.reset_index(drop=True)\n",
    "trigrams_df"
   ]
  },
  {
   "attachments": {},
   "cell_type": "markdown",
   "metadata": {},
   "source": [
    "## Data Visualization"
   ]
  },
  {
   "attachments": {},
   "cell_type": "markdown",
   "metadata": {},
   "source": [
    "Using data that has been created, using functions such as vader_counts, I will create visualizations using seaborn."
   ]
  },
  {
   "cell_type": "code",
   "execution_count": 29,
   "metadata": {},
   "outputs": [],
   "source": [
    "import seaborn as sns\n",
    "import matplotlib.pyplot as plt\n",
    "sns.set_style('ticks') # set background color to white\n",
    "sns.set_palette('pastel') # set palette color to 'pastel'"
   ]
  },
  {
   "attachments": {},
   "cell_type": "markdown",
   "metadata": {},
   "source": [
    "Creating Pie Chart and Bar Plot"
   ]
  },
  {
   "cell_type": "code",
   "execution_count": 30,
   "metadata": {},
   "outputs": [
    {
     "data": {
      "image/png": "[encoded data removed]",
      "text/plain": [
       "<Figure size 864x432 with 2 Axes>"
      ]
     },
     "metadata": {
      "needs_background": "light"
     },
     "output_type": "display_data"
    }
   ],
   "source": [
    "# Create a figure and 2 axes\n",
    "fig, (ax1, ax2) = plt.subplots(ncols=2, figsize=(12, 6))\n",
    "\n",
    "# Drawing a Barplots in the first axes\n",
    "sns.barplot(x=vader_counts.index, y=vader_counts.values, ax=ax1)\n",
    "ax1.set_title('Sentiment Analysis (Bar Plot)', fontsize=16)\n",
    "ax1.set_xlabel('Sentiment')\n",
    "ax1.set_ylabel('Counts')\n",
    "\n",
    "# Drawing pie chart in the second axes\n",
    "labels = vader_counts.index\n",
    "sizes = vader_counts.values\n",
    "explode = (0, 0, 0.1) # create 'explode' effect for the first slice\n",
    "ax2.pie(sizes, explode=explode, labels=labels, autopct='%1.1f%%', startangle=90)\n",
    "ax2.set_title('Sentiment Analysis (Pie Chart)', fontsize=16)\n",
    "\n",
    "\n",
    "plt.show()"
   ]
  },
  {
   "attachments": {},
   "cell_type": "markdown",
   "metadata": {},
   "source": [
    "Visualize the **Bigram**, **Words Count**, **Trigram**"
   ]
  },
  {
   "cell_type": "code",
   "execution_count": 31,
   "metadata": {},
   "outputs": [
    {
     "data": {
      "image/png": "[encoded data removed]",
      "text/plain": [
       "<Figure size 1224x648 with 3 Axes>"
      ]
     },
     "metadata": {
      "needs_background": "light"
     },
     "output_type": "display_data"
    }
   ],
   "source": [
    "plt.figure(figsize=(17,9))\n",
    "\n",
    "# Data frame word counts for first plot\n",
    "plt.subplot(1, 3, 1)\n",
    "plt.barh(df_word_counts['Word'][:15], df_word_counts['Frequency'][:15])\n",
    "plt.gca().invert_yaxis() # split y axis to visualize from the bigger frequency\n",
    "plt.title('Word Counts')\n",
    "\n",
    "# Data frame bigram for 2nd plot\n",
    "plt.subplot(1, 3, 2)\n",
    "plt.barh(bigrams_df['Bigram'][:15], bigrams_df['Frequency'][:15])\n",
    "plt.gca().invert_yaxis() # split y axis to visualize from the bigger frequency\n",
    "plt.title('Bigrams')\n",
    "\n",
    "# Data frame trigram for the last plot\n",
    "plt.subplot(1, 3, 3)\n",
    "plt.barh(trigrams_df['Trigram'][:15], trigrams_df['Frequency'][:15])\n",
    "plt.gca().invert_yaxis() # split y axis to visualize from the bigger frequency\n",
    "plt.title('Trigrams')\n",
    "plt.tight_layout() # making distance between sub plot\n",
    "\n",
    "\n",
    "plt.show()"
   ]
  },
  {
   "attachments": {},
   "cell_type": "markdown",
   "metadata": {},
   "source": [
    "Make a more easy to see visualization"
   ]
  },
  {
   "cell_type": "code",
   "execution_count": 32,
   "metadata": {},
   "outputs": [
    {
     "data": {
      "image/png": "[encoded data removed]",
      "text/plain": [
       "<Figure size 1296x720 with 3 Axes>"
      ]
     },
     "metadata": {
      "needs_background": "light"
     },
     "output_type": "display_data"
    }
   ],
   "source": [
    "# setting how many rows or data will be visualized\n",
    "top_words = df_word_counts.nlargest(15, 'Frequency')\n",
    "top_bigrams = bigrams_df.nlargest(15, 'Frequency')\n",
    "top_trigrams = trigrams_df.nlargest(15, 'Frequency')\n",
    "\n",
    "# Create figure\n",
    "plt.figure(figsize=(18,10))\n",
    "sns.set_style(\"whitegrid\", {'grid.linestyle': '--', 'alpha': 0.5})\n",
    "\n",
    "# Data frame word counts for first plot\n",
    "plt.subplot(1, 3, 1)\n",
    "sns.barplot(x='Frequency', y='Word', data=top_words, palette= sns.color_palette(\"Blues_d\", n_colors=15)[::-1])\n",
    "plt.ylabel('Word', fontsize=14)\n",
    "plt.xlabel('Frequency', fontsize=14)\n",
    "plt.title('Top 15 Words in Reviews', fontsize=16)\n",
    "\n",
    "# Give anotation number for every bar\n",
    "for i, v in enumerate(top_words['Frequency']):\n",
    "    plt.text(v + 0.5, i, str(v), color='black', fontsize=10)\n",
    "\n",
    "# Barplot for bigram\n",
    "plt.subplot(1, 3, 2)\n",
    "sns.barplot(x='Frequency', y='Bigram', data=top_bigrams, palette= sns.color_palette(\"Oranges_d\", n_colors=15)[::-1])\n",
    "plt.ylabel('Bigram', fontsize=14)\n",
    "plt.xlabel('Frequency', fontsize=14)\n",
    "plt.title('Top 15 Bigrams in Reviews', fontsize=16)\n",
    "\n",
    "# Give anotation number for every bar\n",
    "for i, v in enumerate(top_bigrams['Frequency']):\n",
    "    plt.text(v + 0.5, i, str(v), color='black', fontsize=10)\n",
    "\n",
    "# Barplot for trigram\n",
    "plt.subplot(1, 3, 3)\n",
    "sns.barplot(x='Frequency', y='Trigram', data=top_trigrams, palette= sns.color_palette(\"Greens_d\", n_colors=15)[::-1])\n",
    "plt.ylabel('Trigram', fontsize=14)\n",
    "plt.xlabel('Frequency', fontsize=14)\n",
    "plt.title('Top 15 Trigrams in Reviews', fontsize=16)\n",
    "\n",
    "# Give anotation number for every bar\n",
    "for i, v in enumerate(top_trigrams['Frequency']):\n",
    "    plt.text(v + 0.5, i, str(v), color='black', fontsize=10)\n",
    "    \n",
    "plt.tight_layout() # making distance between sub plot\n",
    "\n",
    "plt.show()"
   ]
  },
  {
   "attachments": {},
   "cell_type": "markdown",
   "metadata": {},
   "source": [
    "# 6. Conclusion"
   ]
  },
  {
   "attachments": {},
   "cell_type": "markdown",
   "metadata": {},
   "source": [
    "## Sentiment Analysis"
   ]
  },
  {
   "attachments": {},
   "cell_type": "markdown",
   "metadata": {},
   "source": [
    "**Sentiment Analysis** is the use of natural language processing, text analysis, computational linguistics, and biometrics to systematically identify, extract, quantify, and study affective states and subjective information. The given data represents the results of sentiment analysis of text reviews on Soekarno-Hatta International Airport.   "
   ]
  },
  {
   "attachments": {},
   "cell_type": "markdown",
   "metadata": {},
   "source": [
    "**Out of all reviews, 92 were categorized as positive(53.8%), 58 were categorized as negative(33.9%), 21 were categorized as neutral(12.3%)**     \n",
    "\n",
    "This indicates that travelers generally have a positive experience at the airport, with 53.8% of the reviews being positive. This suggests that many passengers appreciate the facilities, services, and overall environment provided by the airport.       \n",
    "\n",
    "However, the negative reviews, accounting for 33.9% of the total, indicate that there is still a considerable number of passengers who have encountered issues, challenges, or inconveniences at the airport. These concerns could be related to various aspects such as cleanliness, staff behavior, security processes, waiting times, or other factors affecting the passenger experience.       \n",
    "\n",
    "The neutral reviews, comprising 12.3% of the total, indicate that some passengers may not have had a strong opinion about the airport or experienced both positives and negatives that balanced each other out.     \n",
    "\n",
    "Overall, while Soekarno-Hatta International Airport seems to receive predominantly positive feedback, it is crucial to address the negative and neutral reviews to identify areas for improvement and enhance the airport experience for all passengers. Airport management can use this information to target specific issues, make necessary changes, and work towards improving customer satisfaction.              "
   ]
  },
  {
   "attachments": {},
   "cell_type": "markdown",
   "metadata": {},
   "source": [
    "## Top 15 Words in reviews"
   ]
  },
  {
   "attachments": {},
   "cell_type": "markdown",
   "metadata": {},
   "source": [
    "From the top occurring words in the reviews for Soekarno-Hatta International Airport, the top occurring words indicate that passengers' primary experiences and concerns at Soekarno-Hatta International Airport involve the terminals, immigration process, time management, and specific airport areas. Airport management should focus on these aspects, analyze the sentiment associated with these words, and address the factors causing any negative experiences to improve overall customer satisfaction.       "
   ]
  },
  {
   "attachments": {},
   "cell_type": "markdown",
   "metadata": {},
   "source": [
    "## Top 15 Bigrams in reviews\n",
    "https://en.wikipedia.org/wiki/Bigram"
   ]
  },
  {
   "attachments": {},
   "cell_type": "markdown",
   "metadata": {},
   "source": [
    "Based on the top bigrams found in the reviews for Soekarno-Hatta International Airport, the primary topics discussed in the reviews seem to revolve around the new terminal(24 frequencies), baggage claim process(19 frequencies), and security checks(18 frequencies). From bad reviews(14 frequencies) word pairs being in the top 5, Airport management should focus on these areas, analyze the sentiment associated with these bigrams, and identify the factors that may be causing any negative experiences to improve overall customer satisfaction.       "
   ]
  },
  {
   "attachments": {},
   "cell_type": "markdown",
   "metadata": {},
   "source": [
    "## Top 15 Trigrams in reviews\n",
    "https://en.wikipedia.org/wiki/Trigram"
   ]
  },
  {
   "attachments": {},
   "cell_type": "markdown",
   "metadata": {},
   "source": [
    "Based on the top trigrams found in the reviews for Soekarno-Hatta International Airport, the primary topics discussed in the reviews are security check points, duty free shops, terminal experiences, and visa-on-arrival services. Additionally, there are negative sentiments regarding the airport's quality and temperature control. Airport management should focus on these areas, analyze the sentiment associated with these trigrams, and identify the factors that may be causing any negative experiences to improve overall customer satisfaction.     "
   ]
  },
  {
   "attachments": {},
   "cell_type": "markdown",
   "metadata": {},
   "source": [
    "# 7. Closing"
   ]
  },
  {
   "attachments": {},
   "cell_type": "markdown",
   "metadata": {},
   "source": [
    "In this project, we have conducted web scraping and text analysis on Soekarno-Hatta International Airport visitor reviews to gain a deeper understanding of their experiences. By using text analysis techniques such as web scraping, text analysis, sentiment analysis, bigram, and trigram, we were able to determine the messages and sentiments conveyed in the reviews and identify patterns in the language used. "
   ]
  }
 ],
 "metadata": {
  "kernelspec": {
   "display_name": "Python 3",
   "language": "python",
   "name": "python3"
  },
  "language_info": {
   "codemirror_mode": {
    "name": "ipython",
    "version": 3
   },
   "file_extension": ".py",
   "mimetype": "text/x-python",
   "name": "python",
   "nbconvert_exporter": "python",
   "pygments_lexer": "ipython3",
   "version": "3.10.2"
  },
  "orig_nbformat": 4
 },
 "nbformat": 4,
 "nbformat_minor": 2
}
